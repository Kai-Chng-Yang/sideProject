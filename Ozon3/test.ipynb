{
 "cells": [
  {
   "cell_type": "code",
   "execution_count": 4,
   "metadata": {},
   "outputs": [
    {
     "name": "stdout",
     "output_type": "stream",
     "text": [
      "     city   latitude   longitude                 station dominant_pollutant   \n",
      "0  Taipei  25.062361  121.526528  Zhongshan, Taiwan (中山)              pm2.5  \\\n",
      "\n",
      "             timestamp timestamp_timezone   aqi AQI_meaning   \n",
      "0  2023-05-11 13:00:00             +08:00  72.0    Moderate  \\\n",
      "\n",
      "                             AQI_health_implications  ...    o3   co   no2   \n",
      "0  Air quality is acceptable; however, for some p...  ...  28.4  3.7  13.7  \\\n",
      "\n",
      "   so2   dew     h       p     t    w    wg  \n",
      "0  1.8  20.0  65.0  1013.0  27.0  5.1  12.8  \n",
      "\n",
      "[1 rows x 22 columns]\n"
     ]
    }
   ],
   "source": [
    "import ozon3 as ooo\n",
    "\n",
    "o3 = ooo.Ozon3('71421760dc918d8bc84e43abf45524580875f610')\n",
    "data = o3.get_city_air('Taipei')\n",
    "\n",
    "print(data)"
   ]
  }
 ],
 "metadata": {
  "kernelspec": {
   "display_name": "venv",
   "language": "python",
   "name": "python3"
  },
  "language_info": {
   "codemirror_mode": {
    "name": "ipython",
    "version": 3
   },
   "file_extension": ".py",
   "mimetype": "text/x-python",
   "name": "python",
   "nbconvert_exporter": "python",
   "pygments_lexer": "ipython3",
   "version": "3.8.6"
  },
  "orig_nbformat": 4
 },
 "nbformat": 4,
 "nbformat_minor": 2
}
